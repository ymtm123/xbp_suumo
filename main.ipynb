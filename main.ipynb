{
 "cells": [
  {
   "cell_type": "markdown",
   "metadata": {},
   "source": [
    "#### ライブラリのインポート"
   ]
  },
  {
   "cell_type": "code",
   "execution_count": 43,
   "metadata": {},
   "outputs": [],
   "source": [
    "import pandas as pd\n",
    "import importlib\n",
    "import suumo\n",
    "importlib.reload(suumo)\n",
    "\n",
    "text = \"\"\"\n",
    "名称、カテゴリー、アドレス、アクセス\n",
    "路線、駅、バス停、\n",
    "MMまで、バス、徒歩、車、合計時間（分）\n",
    "築年数、構造、階数、\n",
    "家賃、管理費、敷金、礼金（万円）\n",
    "間取り、面積、URL\n",
    "\"\"\"\n"
   ]
  },
  {
   "cell_type": "markdown",
   "metadata": {},
   "source": [
    "#### データの読み込み"
   ]
  },
  {
   "cell_type": "code",
   "execution_count": 44,
   "metadata": {},
   "outputs": [],
   "source": [
    "df = suumo.read_csv(\"./data/yokohama_kawasaki.csv\", index_col=0, encoding=\"utf-8\")\n"
   ]
  },
  {
   "cell_type": "markdown",
   "metadata": {},
   "source": [
    "#### データの確認"
   ]
  },
  {
   "cell_type": "code",
   "execution_count": 45,
   "metadata": {},
   "outputs": [
    {
     "data": {
      "text/html": [
       "<div>\n",
       "<style scoped>\n",
       "    .dataframe tbody tr th:only-of-type {\n",
       "        vertical-align: middle;\n",
       "    }\n",
       "\n",
       "    .dataframe tbody tr th {\n",
       "        vertical-align: top;\n",
       "    }\n",
       "\n",
       "    .dataframe thead th {\n",
       "        text-align: right;\n",
       "    }\n",
       "</style>\n",
       "<table border=\"1\" class=\"dataframe\">\n",
       "  <thead>\n",
       "    <tr style=\"text-align: right;\">\n",
       "      <th></th>\n",
       "      <th>MMまで</th>\n",
       "      <th>バス</th>\n",
       "      <th>徒歩</th>\n",
       "      <th>車</th>\n",
       "      <th>合計時間</th>\n",
       "      <th>築年数</th>\n",
       "      <th>構造</th>\n",
       "      <th>階数</th>\n",
       "      <th>家賃</th>\n",
       "      <th>管理費</th>\n",
       "      <th>敷金</th>\n",
       "      <th>礼金</th>\n",
       "      <th>面積</th>\n",
       "    </tr>\n",
       "  </thead>\n",
       "  <tbody>\n",
       "    <tr>\n",
       "      <th>count</th>\n",
       "      <td>70128.000000</td>\n",
       "      <td>70128.000000</td>\n",
       "      <td>70128.000000</td>\n",
       "      <td>70128.000000</td>\n",
       "      <td>70128.000000</td>\n",
       "      <td>70128.000000</td>\n",
       "      <td>70128.000000</td>\n",
       "      <td>70128.000000</td>\n",
       "      <td>70128.000000</td>\n",
       "      <td>70128.000000</td>\n",
       "      <td>70128.000000</td>\n",
       "      <td>70128.000000</td>\n",
       "      <td>70128.00000</td>\n",
       "    </tr>\n",
       "    <tr>\n",
       "      <th>mean</th>\n",
       "      <td>29.508085</td>\n",
       "      <td>1.152222</td>\n",
       "      <td>13.259155</td>\n",
       "      <td>0.042922</td>\n",
       "      <td>43.962383</td>\n",
       "      <td>21.849076</td>\n",
       "      <td>3.994539</td>\n",
       "      <td>2.544975</td>\n",
       "      <td>7.795544</td>\n",
       "      <td>0.398524</td>\n",
       "      <td>5.319702</td>\n",
       "      <td>4.701743</td>\n",
       "      <td>30.91273</td>\n",
       "    </tr>\n",
       "    <tr>\n",
       "      <th>std</th>\n",
       "      <td>13.806222</td>\n",
       "      <td>4.210051</td>\n",
       "      <td>8.084315</td>\n",
       "      <td>0.722126</td>\n",
       "      <td>16.537229</td>\n",
       "      <td>14.675355</td>\n",
       "      <td>3.333423</td>\n",
       "      <td>2.273292</td>\n",
       "      <td>4.550568</td>\n",
       "      <td>0.392495</td>\n",
       "      <td>9.024603</td>\n",
       "      <td>6.959258</td>\n",
       "      <td>18.78029</td>\n",
       "    </tr>\n",
       "    <tr>\n",
       "      <th>min</th>\n",
       "      <td>0.000000</td>\n",
       "      <td>0.000000</td>\n",
       "      <td>0.000000</td>\n",
       "      <td>0.000000</td>\n",
       "      <td>2.000000</td>\n",
       "      <td>0.000000</td>\n",
       "      <td>1.000000</td>\n",
       "      <td>-5.000000</td>\n",
       "      <td>1.300000</td>\n",
       "      <td>0.000000</td>\n",
       "      <td>0.000000</td>\n",
       "      <td>0.000000</td>\n",
       "      <td>6.94000</td>\n",
       "    </tr>\n",
       "    <tr>\n",
       "      <th>25%</th>\n",
       "      <td>20.000000</td>\n",
       "      <td>0.000000</td>\n",
       "      <td>7.000000</td>\n",
       "      <td>0.000000</td>\n",
       "      <td>32.000000</td>\n",
       "      <td>8.000000</td>\n",
       "      <td>2.000000</td>\n",
       "      <td>1.000000</td>\n",
       "      <td>5.450000</td>\n",
       "      <td>0.200000</td>\n",
       "      <td>0.000000</td>\n",
       "      <td>0.000000</td>\n",
       "      <td>19.57000</td>\n",
       "    </tr>\n",
       "    <tr>\n",
       "      <th>50%</th>\n",
       "      <td>27.000000</td>\n",
       "      <td>0.000000</td>\n",
       "      <td>12.000000</td>\n",
       "      <td>0.000000</td>\n",
       "      <td>41.000000</td>\n",
       "      <td>22.000000</td>\n",
       "      <td>3.000000</td>\n",
       "      <td>2.000000</td>\n",
       "      <td>6.800000</td>\n",
       "      <td>0.300000</td>\n",
       "      <td>4.200000</td>\n",
       "      <td>0.000000</td>\n",
       "      <td>23.41500</td>\n",
       "    </tr>\n",
       "    <tr>\n",
       "      <th>75%</th>\n",
       "      <td>38.000000</td>\n",
       "      <td>0.000000</td>\n",
       "      <td>18.000000</td>\n",
       "      <td>0.000000</td>\n",
       "      <td>54.000000</td>\n",
       "      <td>34.000000</td>\n",
       "      <td>5.000000</td>\n",
       "      <td>3.000000</td>\n",
       "      <td>8.500000</td>\n",
       "      <td>0.550000</td>\n",
       "      <td>7.700000</td>\n",
       "      <td>7.600000</td>\n",
       "      <td>38.88000</td>\n",
       "    </tr>\n",
       "    <tr>\n",
       "      <th>max</th>\n",
       "      <td>72.000000</td>\n",
       "      <td>112.000000</td>\n",
       "      <td>83.000000</td>\n",
       "      <td>23.000000</td>\n",
       "      <td>143.000000</td>\n",
       "      <td>96.000000</td>\n",
       "      <td>59.000000</td>\n",
       "      <td>58.000000</td>\n",
       "      <td>150.000000</td>\n",
       "      <td>48.000000</td>\n",
       "      <td>600.000000</td>\n",
       "      <td>165.620000</td>\n",
       "      <td>327.64000</td>\n",
       "    </tr>\n",
       "  </tbody>\n",
       "</table>\n",
       "</div>"
      ],
      "text/plain": [
       "               MMまで            バス            徒歩             車          合計時間  \\\n",
       "count  70128.000000  70128.000000  70128.000000  70128.000000  70128.000000   \n",
       "mean      29.508085      1.152222     13.259155      0.042922     43.962383   \n",
       "std       13.806222      4.210051      8.084315      0.722126     16.537229   \n",
       "min        0.000000      0.000000      0.000000      0.000000      2.000000   \n",
       "25%       20.000000      0.000000      7.000000      0.000000     32.000000   \n",
       "50%       27.000000      0.000000     12.000000      0.000000     41.000000   \n",
       "75%       38.000000      0.000000     18.000000      0.000000     54.000000   \n",
       "max       72.000000    112.000000     83.000000     23.000000    143.000000   \n",
       "\n",
       "                築年数            構造            階数            家賃           管理費  \\\n",
       "count  70128.000000  70128.000000  70128.000000  70128.000000  70128.000000   \n",
       "mean      21.849076      3.994539      2.544975      7.795544      0.398524   \n",
       "std       14.675355      3.333423      2.273292      4.550568      0.392495   \n",
       "min        0.000000      1.000000     -5.000000      1.300000      0.000000   \n",
       "25%        8.000000      2.000000      1.000000      5.450000      0.200000   \n",
       "50%       22.000000      3.000000      2.000000      6.800000      0.300000   \n",
       "75%       34.000000      5.000000      3.000000      8.500000      0.550000   \n",
       "max       96.000000     59.000000     58.000000    150.000000     48.000000   \n",
       "\n",
       "                 敷金            礼金           面積  \n",
       "count  70128.000000  70128.000000  70128.00000  \n",
       "mean       5.319702      4.701743     30.91273  \n",
       "std        9.024603      6.959258     18.78029  \n",
       "min        0.000000      0.000000      6.94000  \n",
       "25%        0.000000      0.000000     19.57000  \n",
       "50%        4.200000      0.000000     23.41500  \n",
       "75%        7.700000      7.600000     38.88000  \n",
       "max      600.000000    165.620000    327.64000  "
      ]
     },
     "execution_count": 45,
     "metadata": {},
     "output_type": "execute_result"
    }
   ],
   "source": [
    "df.describe()\n"
   ]
  },
  {
   "cell_type": "markdown",
   "metadata": {},
   "source": [
    "#### グラフ化"
   ]
  },
  {
   "cell_type": "code",
   "execution_count": 46,
   "metadata": {},
   "outputs": [
    {
     "data": {
      "image/png": "[encoded data removed]",
      "text/plain": [
       "<Figure size 864x216 with 1 Axes>"
      ]
     },
     "metadata": {
      "needs_background": "light"
     },
     "output_type": "display_data"
    }
   ],
   "source": [
    "df.n_rooms(\"カテゴリー\")\n"
   ]
  },
  {
   "cell_type": "code",
   "execution_count": 47,
   "metadata": {},
   "outputs": [
    {
     "data": {
      "image/png": "[encoded data removed]",
      "text/plain": [
       "<Figure size 864x216 with 1 Axes>"
      ]
     },
     "metadata": {
      "needs_background": "light"
     },
     "output_type": "display_data"
    }
   ],
   "source": [
    "df.n_rooms_by_line([\"京急本線\", \"京急逗子線\"], \"カテゴリー\")\n"
   ]
  },
  {
   "cell_type": "code",
   "execution_count": 48,
   "metadata": {},
   "outputs": [
    {
     "data": {
      "image/png": "[encoded data removed]",
      "text/plain": [
       "<Figure size 864x216 with 1 Axes>"
      ]
     },
     "metadata": {
      "needs_background": "light"
     },
     "output_type": "display_data"
    }
   ],
   "source": [
    "df.ranking_bar(\"築年数\", \"家賃\")\n"
   ]
  },
  {
   "cell_type": "code",
   "execution_count": 49,
   "metadata": {},
   "outputs": [
    {
     "data": {
      "image/png": "[encoded data removed]",
      "text/plain": [
       "<Figure size 864x216 with 1 Axes>"
      ]
     },
     "metadata": {
      "needs_background": "light"
     },
     "output_type": "display_data"
    }
   ],
   "source": [
    "df.ranking_bar_by_line([\"京急本線\", \"京急逗子線\"], \"駅\", \"家賃\")\n"
   ]
  },
  {
   "cell_type": "code",
   "execution_count": 50,
   "metadata": {},
   "outputs": [
    {
     "data": {
      "image/png": "[encoded data removed]",
      "text/plain": [
       "<Figure size 460.8x345.6 with 1 Axes>"
      ]
     },
     "metadata": {
      "needs_background": "light"
     },
     "output_type": "display_data"
    }
   ],
   "source": [
    "df.scatter_line(\"面積\", \"家賃\")\n"
   ]
  },
  {
   "cell_type": "code",
   "execution_count": 51,
   "metadata": {},
   "outputs": [
    {
     "data": {
      "image/png": "[encoded data removed]",
      "text/plain": [
       "<Figure size 460.8x345.6 with 1 Axes>"
      ]
     },
     "metadata": {
      "needs_background": "light"
     },
     "output_type": "display_data"
    }
   ],
   "source": [
    "df.scatter_station([\"京急本線\", \"京急逗子線\"], \"面積\", \"家賃\")\n"
   ]
  },
  {
   "cell_type": "markdown",
   "metadata": {},
   "source": [
    "#### データの抽出"
   ]
  },
  {
   "cell_type": "code",
   "execution_count": 52,
   "metadata": {},
   "outputs": [
    {
     "data": {
      "text/plain": [
       "0        8.0\n",
       "1        6.0\n",
       "2        5.9\n",
       "3        8.3\n",
       "4        6.1\n",
       "        ... \n",
       "70123    9.0\n",
       "70124    9.0\n",
       "70125    4.7\n",
       "70126    7.2\n",
       "70127    5.3\n",
       "Name: 家賃, Length: 70128, dtype: float64"
      ]
     },
     "execution_count": 52,
     "metadata": {},
     "output_type": "execute_result"
    }
   ],
   "source": [
    "# 家賃の列の抽出\n",
    "df[\"家賃\"]\n"
   ]
  },
  {
   "cell_type": "code",
   "execution_count": 53,
   "metadata": {},
   "outputs": [
    {
     "data": {
      "text/plain": [
       "5.9"
      ]
     },
     "execution_count": 53,
     "metadata": {},
     "output_type": "execute_result"
    }
   ],
   "source": [
    "# 家賃の列のindex=2の行の抽出\n",
    "df[\"家賃\"][2]\n"
   ]
  },
  {
   "cell_type": "code",
   "execution_count": 54,
   "metadata": {},
   "outputs": [
    {
     "data": {
      "text/plain": [
       "'神奈川県横浜市鶴見区市場上町'"
      ]
     },
     "execution_count": 54,
     "metadata": {},
     "output_type": "execute_result"
    }
   ],
   "source": [
    "# 0列目の2行目の抽出\n",
    "df.iloc[0, 2]\n"
   ]
  },
  {
   "cell_type": "code",
   "execution_count": 55,
   "metadata": {},
   "outputs": [
    {
     "data": {
      "text/html": [
       "<div>\n",
       "<style scoped>\n",
       "    .dataframe tbody tr th:only-of-type {\n",
       "        vertical-align: middle;\n",
       "    }\n",
       "\n",
       "    .dataframe tbody tr th {\n",
       "        vertical-align: top;\n",
       "    }\n",
       "\n",
       "    .dataframe thead th {\n",
       "        text-align: right;\n",
       "    }\n",
       "</style>\n",
       "<table border=\"1\" class=\"dataframe\">\n",
       "  <thead>\n",
       "    <tr style=\"text-align: right;\">\n",
       "      <th></th>\n",
       "      <th>名称</th>\n",
       "      <th>カテゴリー</th>\n",
       "      <th>アドレス</th>\n",
       "      <th>アクセス</th>\n",
       "      <th>路線</th>\n",
       "      <th>駅</th>\n",
       "      <th>バス停</th>\n",
       "      <th>MMまで</th>\n",
       "      <th>バス</th>\n",
       "      <th>徒歩</th>\n",
       "      <th>...</th>\n",
       "      <th>築年数</th>\n",
       "      <th>構造</th>\n",
       "      <th>階数</th>\n",
       "      <th>家賃</th>\n",
       "      <th>管理費</th>\n",
       "      <th>敷金</th>\n",
       "      <th>礼金</th>\n",
       "      <th>間取り</th>\n",
       "      <th>面積</th>\n",
       "      <th>URL</th>\n",
       "    </tr>\n",
       "  </thead>\n",
       "  <tbody>\n",
       "    <tr>\n",
       "      <th>0</th>\n",
       "      <td>グランデパール</td>\n",
       "      <td>賃貸マンション</td>\n",
       "      <td>神奈川県横浜市鶴見区市場上町</td>\n",
       "      <td>ＪＲ鶴見線/鶴見駅 歩19分</td>\n",
       "      <td>ＪＲ鶴見線</td>\n",
       "      <td>鶴見駅</td>\n",
       "      <td>NaN</td>\n",
       "      <td>22</td>\n",
       "      <td>0</td>\n",
       "      <td>19</td>\n",
       "      <td>...</td>\n",
       "      <td>12</td>\n",
       "      <td>5</td>\n",
       "      <td>2</td>\n",
       "      <td>8.0</td>\n",
       "      <td>0.70</td>\n",
       "      <td>0.00</td>\n",
       "      <td>0.0</td>\n",
       "      <td>1K</td>\n",
       "      <td>30.39</td>\n",
       "      <td>https://suumo.jp/chintai/jnc_000013652979/?bc=...</td>\n",
       "    </tr>\n",
       "    <tr>\n",
       "      <th>1</th>\n",
       "      <td>ライトマルシェ</td>\n",
       "      <td>賃貸アパート</td>\n",
       "      <td>神奈川県横浜市鶴見区市場東中町</td>\n",
       "      <td>京急本線/八丁畷駅 歩10分</td>\n",
       "      <td>京急本線</td>\n",
       "      <td>八丁畷駅</td>\n",
       "      <td>NaN</td>\n",
       "      <td>26</td>\n",
       "      <td>0</td>\n",
       "      <td>10</td>\n",
       "      <td>...</td>\n",
       "      <td>15</td>\n",
       "      <td>3</td>\n",
       "      <td>1</td>\n",
       "      <td>6.0</td>\n",
       "      <td>0.00</td>\n",
       "      <td>6.00</td>\n",
       "      <td>6.0</td>\n",
       "      <td>ワンルーム</td>\n",
       "      <td>11.00</td>\n",
       "      <td>https://suumo.jp/chintai/jnc_000013653014/?bc=...</td>\n",
       "    </tr>\n",
       "    <tr>\n",
       "      <th>2</th>\n",
       "      <td>ライトマルシェ</td>\n",
       "      <td>賃貸アパート</td>\n",
       "      <td>神奈川県横浜市鶴見区市場東中町</td>\n",
       "      <td>京急本線/鶴見市場駅 歩1分</td>\n",
       "      <td>京急本線</td>\n",
       "      <td>鶴見市場駅</td>\n",
       "      <td>NaN</td>\n",
       "      <td>25</td>\n",
       "      <td>0</td>\n",
       "      <td>1</td>\n",
       "      <td>...</td>\n",
       "      <td>15</td>\n",
       "      <td>3</td>\n",
       "      <td>2</td>\n",
       "      <td>5.9</td>\n",
       "      <td>0.10</td>\n",
       "      <td>0.00</td>\n",
       "      <td>0.0</td>\n",
       "      <td>ワンルーム</td>\n",
       "      <td>11.56</td>\n",
       "      <td>https://suumo.jp/chintai/jnc_000013653015/?bc=...</td>\n",
       "    </tr>\n",
       "    <tr>\n",
       "      <th>3</th>\n",
       "      <td>京急本線 鶴見市場駅 10階建 築8年</td>\n",
       "      <td>賃貸マンション</td>\n",
       "      <td>神奈川県横浜市鶴見区市場富士見町</td>\n",
       "      <td>ＪＲ南武線/八丁畷駅 歩14分</td>\n",
       "      <td>ＪＲ南武線</td>\n",
       "      <td>八丁畷駅</td>\n",
       "      <td>NaN</td>\n",
       "      <td>26</td>\n",
       "      <td>0</td>\n",
       "      <td>14</td>\n",
       "      <td>...</td>\n",
       "      <td>8</td>\n",
       "      <td>10</td>\n",
       "      <td>8</td>\n",
       "      <td>8.3</td>\n",
       "      <td>0.55</td>\n",
       "      <td>0.00</td>\n",
       "      <td>8.3</td>\n",
       "      <td>1K</td>\n",
       "      <td>28.32</td>\n",
       "      <td>https://suumo.jp/chintai/jnc_000013653085/?bc=...</td>\n",
       "    </tr>\n",
       "    <tr>\n",
       "      <th>4</th>\n",
       "      <td>ＪＲ京浜東北線 鶴見駅 2階建 築10年</td>\n",
       "      <td>賃貸アパート</td>\n",
       "      <td>神奈川県横浜市鶴見区潮田町１</td>\n",
       "      <td>ＪＲ京浜東北線/鶴見駅 歩11分</td>\n",
       "      <td>ＪＲ京浜東北線</td>\n",
       "      <td>鶴見駅</td>\n",
       "      <td>NaN</td>\n",
       "      <td>22</td>\n",
       "      <td>0</td>\n",
       "      <td>11</td>\n",
       "      <td>...</td>\n",
       "      <td>10</td>\n",
       "      <td>2</td>\n",
       "      <td>1</td>\n",
       "      <td>6.1</td>\n",
       "      <td>0.35</td>\n",
       "      <td>0.00</td>\n",
       "      <td>0.0</td>\n",
       "      <td>ワンルーム</td>\n",
       "      <td>13.92</td>\n",
       "      <td>https://suumo.jp/chintai/jnc_000013653171/?bc=...</td>\n",
       "    </tr>\n",
       "    <tr>\n",
       "      <th>...</th>\n",
       "      <td>...</td>\n",
       "      <td>...</td>\n",
       "      <td>...</td>\n",
       "      <td>...</td>\n",
       "      <td>...</td>\n",
       "      <td>...</td>\n",
       "      <td>...</td>\n",
       "      <td>...</td>\n",
       "      <td>...</td>\n",
       "      <td>...</td>\n",
       "      <td>...</td>\n",
       "      <td>...</td>\n",
       "      <td>...</td>\n",
       "      <td>...</td>\n",
       "      <td>...</td>\n",
       "      <td>...</td>\n",
       "      <td>...</td>\n",
       "      <td>...</td>\n",
       "      <td>...</td>\n",
       "      <td>...</td>\n",
       "      <td>...</td>\n",
       "    </tr>\n",
       "    <tr>\n",
       "      <th>70123</th>\n",
       "      <td>テラス栗平エヌ</td>\n",
       "      <td>賃貸アパート</td>\n",
       "      <td>神奈川県川崎市麻生区栗平１</td>\n",
       "      <td>小田急多摩線/五月台駅 歩18分</td>\n",
       "      <td>小田急多摩線</td>\n",
       "      <td>五月台駅</td>\n",
       "      <td>NaN</td>\n",
       "      <td>67</td>\n",
       "      <td>0</td>\n",
       "      <td>18</td>\n",
       "      <td>...</td>\n",
       "      <td>4</td>\n",
       "      <td>2</td>\n",
       "      <td>1</td>\n",
       "      <td>9.0</td>\n",
       "      <td>0.20</td>\n",
       "      <td>9.00</td>\n",
       "      <td>9.0</td>\n",
       "      <td>1LDK</td>\n",
       "      <td>39.81</td>\n",
       "      <td>https://suumo.jp/chintai/jnc_000085604509/?bc=...</td>\n",
       "    </tr>\n",
       "    <tr>\n",
       "      <th>70124</th>\n",
       "      <td>小田急多摩線 栗平駅 2階建 築4年</td>\n",
       "      <td>賃貸アパート</td>\n",
       "      <td>神奈川県川崎市麻生区栗平１</td>\n",
       "      <td>小田急多摩線/栗平駅 歩3分</td>\n",
       "      <td>小田急多摩線</td>\n",
       "      <td>栗平駅</td>\n",
       "      <td>NaN</td>\n",
       "      <td>69</td>\n",
       "      <td>0</td>\n",
       "      <td>3</td>\n",
       "      <td>...</td>\n",
       "      <td>4</td>\n",
       "      <td>2</td>\n",
       "      <td>1</td>\n",
       "      <td>9.0</td>\n",
       "      <td>0.20</td>\n",
       "      <td>9.00</td>\n",
       "      <td>9.0</td>\n",
       "      <td>1LDK</td>\n",
       "      <td>39.81</td>\n",
       "      <td>https://suumo.jp/chintai/jnc_000085604510/?bc=...</td>\n",
       "    </tr>\n",
       "    <tr>\n",
       "      <th>70125</th>\n",
       "      <td>パノラマタウン</td>\n",
       "      <td>賃貸アパート</td>\n",
       "      <td>神奈川県川崎市麻生区白鳥４</td>\n",
       "      <td>小田急多摩線/黒川駅 歩20分</td>\n",
       "      <td>小田急多摩線</td>\n",
       "      <td>黒川駅</td>\n",
       "      <td>NaN</td>\n",
       "      <td>71</td>\n",
       "      <td>0</td>\n",
       "      <td>20</td>\n",
       "      <td>...</td>\n",
       "      <td>26</td>\n",
       "      <td>2</td>\n",
       "      <td>1</td>\n",
       "      <td>4.7</td>\n",
       "      <td>0.20</td>\n",
       "      <td>22.09</td>\n",
       "      <td>0.0</td>\n",
       "      <td>1K</td>\n",
       "      <td>22.60</td>\n",
       "      <td>https://suumo.jp/chintai/jnc_000085604511/?bc=...</td>\n",
       "    </tr>\n",
       "    <tr>\n",
       "      <th>70126</th>\n",
       "      <td>ＮＯＢ　ＨＯＳＯＹＡＭＡ</td>\n",
       "      <td>賃貸マンション</td>\n",
       "      <td>神奈川県川崎市麻生区細山３</td>\n",
       "      <td>小田急線/百合ヶ丘駅 歩19分</td>\n",
       "      <td>小田急線</td>\n",
       "      <td>百合ヶ丘駅</td>\n",
       "      <td>NaN</td>\n",
       "      <td>62</td>\n",
       "      <td>0</td>\n",
       "      <td>19</td>\n",
       "      <td>...</td>\n",
       "      <td>31</td>\n",
       "      <td>4</td>\n",
       "      <td>4</td>\n",
       "      <td>7.2</td>\n",
       "      <td>0.30</td>\n",
       "      <td>7.20</td>\n",
       "      <td>0.0</td>\n",
       "      <td>2LDK</td>\n",
       "      <td>53.00</td>\n",
       "      <td>https://suumo.jp/chintai/jnc_000085604512/?bc=...</td>\n",
       "    </tr>\n",
       "    <tr>\n",
       "      <th>70127</th>\n",
       "      <td>リベラル百合丘</td>\n",
       "      <td>賃貸アパート</td>\n",
       "      <td>神奈川県川崎市麻生区百合丘３</td>\n",
       "      <td>小田急線/百合ヶ丘駅 歩9分</td>\n",
       "      <td>小田急線</td>\n",
       "      <td>百合ヶ丘駅</td>\n",
       "      <td>NaN</td>\n",
       "      <td>62</td>\n",
       "      <td>0</td>\n",
       "      <td>9</td>\n",
       "      <td>...</td>\n",
       "      <td>23</td>\n",
       "      <td>2</td>\n",
       "      <td>2</td>\n",
       "      <td>5.3</td>\n",
       "      <td>0.30</td>\n",
       "      <td>0.00</td>\n",
       "      <td>0.0</td>\n",
       "      <td>ワンルーム</td>\n",
       "      <td>22.35</td>\n",
       "      <td>https://suumo.jp/chintai/jnc_000085604513/?bc=...</td>\n",
       "    </tr>\n",
       "  </tbody>\n",
       "</table>\n",
       "<p>58786 rows × 22 columns</p>\n",
       "</div>"
      ],
      "text/plain": [
       "                         名称    カテゴリー              アドレス              アクセス  \\\n",
       "0                   グランデパール  賃貸マンション    神奈川県横浜市鶴見区市場上町    ＪＲ鶴見線/鶴見駅 歩19分   \n",
       "1                   ライトマルシェ   賃貸アパート   神奈川県横浜市鶴見区市場東中町    京急本線/八丁畷駅 歩10分   \n",
       "2                   ライトマルシェ   賃貸アパート   神奈川県横浜市鶴見区市場東中町    京急本線/鶴見市場駅 歩1分   \n",
       "3       京急本線 鶴見市場駅 10階建 築8年  賃貸マンション  神奈川県横浜市鶴見区市場富士見町   ＪＲ南武線/八丁畷駅 歩14分   \n",
       "4      ＪＲ京浜東北線 鶴見駅 2階建 築10年   賃貸アパート    神奈川県横浜市鶴見区潮田町１  ＪＲ京浜東北線/鶴見駅 歩11分   \n",
       "...                     ...      ...               ...               ...   \n",
       "70123               テラス栗平エヌ   賃貸アパート     神奈川県川崎市麻生区栗平１  小田急多摩線/五月台駅 歩18分   \n",
       "70124    小田急多摩線 栗平駅 2階建 築4年   賃貸アパート     神奈川県川崎市麻生区栗平１    小田急多摩線/栗平駅 歩3分   \n",
       "70125               パノラマタウン   賃貸アパート     神奈川県川崎市麻生区白鳥４   小田急多摩線/黒川駅 歩20分   \n",
       "70126          ＮＯＢ　ＨＯＳＯＹＡＭＡ  賃貸マンション     神奈川県川崎市麻生区細山３   小田急線/百合ヶ丘駅 歩19分   \n",
       "70127               リベラル百合丘   賃貸アパート    神奈川県川崎市麻生区百合丘３    小田急線/百合ヶ丘駅 歩9分   \n",
       "\n",
       "            路線      駅  バス停  MMまで  バス  徒歩  ...  築年数  構造  階数   家賃   管理費     敷金  \\\n",
       "0        ＪＲ鶴見線    鶴見駅  NaN    22   0  19  ...   12   5   2  8.0  0.70   0.00   \n",
       "1         京急本線   八丁畷駅  NaN    26   0  10  ...   15   3   1  6.0  0.00   6.00   \n",
       "2         京急本線  鶴見市場駅  NaN    25   0   1  ...   15   3   2  5.9  0.10   0.00   \n",
       "3        ＪＲ南武線   八丁畷駅  NaN    26   0  14  ...    8  10   8  8.3  0.55   0.00   \n",
       "4      ＪＲ京浜東北線    鶴見駅  NaN    22   0  11  ...   10   2   1  6.1  0.35   0.00   \n",
       "...        ...    ...  ...   ...  ..  ..  ...  ...  ..  ..  ...   ...    ...   \n",
       "70123   小田急多摩線   五月台駅  NaN    67   0  18  ...    4   2   1  9.0  0.20   9.00   \n",
       "70124   小田急多摩線    栗平駅  NaN    69   0   3  ...    4   2   1  9.0  0.20   9.00   \n",
       "70125   小田急多摩線    黒川駅  NaN    71   0  20  ...   26   2   1  4.7  0.20  22.09   \n",
       "70126     小田急線  百合ヶ丘駅  NaN    62   0  19  ...   31   4   4  7.2  0.30   7.20   \n",
       "70127     小田急線  百合ヶ丘駅  NaN    62   0   9  ...   23   2   2  5.3  0.30   0.00   \n",
       "\n",
       "        礼金    間取り     面積                                                URL  \n",
       "0      0.0     1K  30.39  https://suumo.jp/chintai/jnc_000013652979/?bc=...  \n",
       "1      6.0  ワンルーム  11.00  https://suumo.jp/chintai/jnc_000013653014/?bc=...  \n",
       "2      0.0  ワンルーム  11.56  https://suumo.jp/chintai/jnc_000013653015/?bc=...  \n",
       "3      8.3     1K  28.32  https://suumo.jp/chintai/jnc_000013653085/?bc=...  \n",
       "4      0.0  ワンルーム  13.92  https://suumo.jp/chintai/jnc_000013653171/?bc=...  \n",
       "...    ...    ...    ...                                                ...  \n",
       "70123  9.0   1LDK  39.81  https://suumo.jp/chintai/jnc_000085604509/?bc=...  \n",
       "70124  9.0   1LDK  39.81  https://suumo.jp/chintai/jnc_000085604510/?bc=...  \n",
       "70125  0.0     1K  22.60  https://suumo.jp/chintai/jnc_000085604511/?bc=...  \n",
       "70126  0.0   2LDK  53.00  https://suumo.jp/chintai/jnc_000085604512/?bc=...  \n",
       "70127  0.0  ワンルーム  22.35  https://suumo.jp/chintai/jnc_000085604513/?bc=...  \n",
       "\n",
       "[58786 rows x 22 columns]"
      ]
     },
     "execution_count": 55,
     "metadata": {},
     "output_type": "execute_result"
    }
   ],
   "source": [
    "# 家賃の値が10未満のデータの抽出\n",
    "df[df[\"家賃\"] < 10]\n"
   ]
  },
  {
   "cell_type": "code",
   "execution_count": null,
   "metadata": {},
   "outputs": [],
   "source": []
  },
  {
   "cell_type": "code",
   "execution_count": null,
   "metadata": {},
   "outputs": [],
   "source": []
  }
 ],
 "metadata": {
  "kernelspec": {
   "display_name": "xbp",
   "language": "python",
   "name": "python3"
  },
  "language_info": {
   "codemirror_mode": {
    "name": "ipython",
    "version": 3
   },
   "file_extension": ".py",
   "mimetype": "text/x-python",
   "name": "python",
   "nbconvert_exporter": "python",
   "pygments_lexer": "ipython3",
   "version": "3.7.13"
  },
  "orig_nbformat": 4
 },
 "nbformat": 4,
 "nbformat_minor": 2
}
